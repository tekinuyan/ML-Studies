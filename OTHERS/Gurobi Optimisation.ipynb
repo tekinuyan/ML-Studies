{
 "cells": [
  {
   "cell_type": "code",
   "execution_count": 1,
   "id": "offshore-tucson",
   "metadata": {},
   "outputs": [],
   "source": [
    "import gurobipy as gp\n",
    "from gurobipy import GRB"
   ]
  },
  {
   "cell_type": "markdown",
   "id": "vanilla-hearts",
   "metadata": {},
   "source": [
    "This is a model implementation of Task 2 in assignment 1. "
   ]
  },
  {
   "cell_type": "code",
   "execution_count": 8,
   "id": "random-evanescence",
   "metadata": {},
   "outputs": [
    {
     "name": "stdout",
     "output_type": "stream",
     "text": [
      "Gurobi Optimizer version 9.1.1 build v9.1.1rc0 (mac64)\n",
      "Thread count: 2 physical cores, 4 logical processors, using up to 4 threads\n",
      "Optimize a model with 10 rows, 12 columns and 33 nonzeros\n",
      "Model fingerprint: 0xf764b25d\n",
      "Variable types: 6 continuous, 6 integer (6 binary)\n",
      "Coefficient statistics:\n",
      "  Matrix range     [1e+00, 2e+01]\n",
      "  Objective range  [1e-01, 3e-01]\n",
      "  Bounds range     [1e+00, 1e+00]\n",
      "  RHS range        [1e+01, 1e+01]\n",
      "Presolve removed 10 rows and 12 columns\n",
      "Presolve time: 0.00s\n",
      "Presolve: All rows and columns removed\n",
      "\n",
      "Explored 0 nodes (0 simplex iterations) in 0.02 seconds\n",
      "Thread count was 1 (of 4 available processors)\n",
      "\n",
      "Solution count 1: 18.7984 \n",
      "\n",
      "Optimal solution found (tolerance 1.00e-04)\n",
      "Best objective 1.879840000000e+01, best bound 1.879840000000e+01, gap 0.0000%\n"
     ]
    }
   ],
   "source": [
    "# create model\n",
    "m = gp.Model(\"task1\")\n",
    "\n",
    "# create binary variables representing the investment decisions\n",
    "zA0 = m.addVar(vtype=GRB.BINARY, name='zA0')\n",
    "zA1 = m.addVar(vtype=GRB.BINARY, name='zA1')\n",
    "zA2 = m.addVar(vtype=GRB.BINARY, name='zA2')\n",
    "zB0 = m.addVar(vtype=GRB.BINARY, name='zB0')\n",
    "zB1 = m.addVar(vtype=GRB.BINARY, name='zB1')\n",
    "zB2 = m.addVar(vtype=GRB.BINARY, name='zB2')\n",
    "\n",
    "# create real variables representing the investment outcomes\n",
    "R11 = m.addVar(name='R11')\n",
    "R12 = m.addVar(name='R12')\n",
    "R21 = m.addVar(name='R21')\n",
    "R22 = m.addVar(name='R22')\n",
    "R1 = m.addVar(name='R1')\n",
    "R2 = m.addVar(name='R2')\n",
    "\n",
    "# define probabilities in the scenario tree\n",
    "P1 = 0.5\n",
    "P2 = 0.5\n",
    "P11 = P1*0.3\n",
    "P12 = P1*0.7\n",
    "P21 = P2*0.4\n",
    "P22 = P2*0.6\n",
    "\n",
    "# interest\n",
    "r = 1.08\n",
    "\n",
    "# Calculate first outcome (could be a constraint as well like the rest)\n",
    "R0 = 9-1*zA0 - 2*zB0\n",
    "\n",
    "# define objective\n",
    "m.setObjective(P11*R11 + P12*R12 + P21*R21 + P22*R22, GRB.MAXIMIZE) \n",
    "\n",
    "# Add rest of the output calculations as constraints\n",
    "\n",
    "# t=1\n",
    "m.addConstr(R1 == r*R0 - 3*zA1 - 2*zB1)\n",
    "m.addConstr(R2 == r*R0 - 3*zA2 - 2*zB2)\n",
    "\n",
    "#t=2\n",
    "m.addConstr(R11 == r*R1 + 20*zA1 + 2.5*zB1)\n",
    "m.addConstr(R12 == r*R1 + 10*zA1 + 1*zB1)\n",
    "m.addConstr(R21 == r*R2 + 5*zA2 + 25*zB2)\n",
    "m.addConstr(R22 == r*R2 + 10*zB2)\n",
    "\n",
    "# consistency constraints for decisions\n",
    "m.addConstr(zA0 >= zA1)\n",
    "m.addConstr(zA0 >= zA2)\n",
    "m.addConstr(zB0 >= zB1)\n",
    "m.addConstr(zB0 >= zB2)\n",
    "\n",
    "m.optimize()"
   ]
  },
  {
   "cell_type": "code",
   "execution_count": 3,
   "id": "starting-integral",
   "metadata": {},
   "outputs": [
    {
     "data": {
      "text/plain": [
       "[1.0,\n",
       " 1.0,\n",
       " 0.0,\n",
       " 1.0,\n",
       " 0.0,\n",
       " 1.0,\n",
       " 23.7584,\n",
       " 13.758400000000002,\n",
       " 29.8384,\n",
       " 14.8384,\n",
       " 3.4800000000000004,\n",
       " 4.48]"
      ]
     },
     "execution_count": 3,
     "metadata": {},
     "output_type": "execute_result"
    }
   ],
   "source": [
    "# print out solutions, first 6 are decisions, next 2 t=1 outcomes and last for t=2 outcomes\n",
    "solution_x = m.getAttr('x')\n",
    "solution_x"
   ]
  },
  {
   "cell_type": "code",
   "execution_count": 6,
   "id": "bottom-passing",
   "metadata": {},
   "outputs": [
    {
     "data": {
      "text/plain": [
       "1.0"
      ]
     },
     "execution_count": 6,
     "metadata": {},
     "output_type": "execute_result"
    }
   ],
   "source": [
    "# individual values can be printed out like this...\n",
    "zA0.x"
   ]
  },
  {
   "cell_type": "code",
   "execution_count": 9,
   "id": "distant-miracle",
   "metadata": {},
   "outputs": [
    {
     "data": {
      "text/plain": [
       "23.7584"
      ]
     },
     "execution_count": 9,
     "metadata": {},
     "output_type": "execute_result"
    }
   ],
   "source": [
    "R11.x # note: needs the name to be defined for the variable!"
   ]
  },
  {
   "cell_type": "code",
   "execution_count": 4,
   "id": "found-riverside",
   "metadata": {},
   "outputs": [
    {
     "name": "stdout",
     "output_type": "stream",
     "text": [
      "Gurobi Optimizer version 9.1.1 build v9.1.1rc0 (mac64)\n",
      "Thread count: 2 physical cores, 4 logical processors, using up to 4 threads\n",
      "Optimize a model with 4 rows, 6 columns and 8 nonzeros\n",
      "Model fingerprint: 0x5cacfd60\n",
      "Variable types: 0 continuous, 6 integer (6 binary)\n",
      "Coefficient statistics:\n",
      "  Matrix range     [1e+00, 1e+00]\n",
      "  Objective range  [4e-01, 7e+00]\n",
      "  Bounds range     [1e+00, 1e+00]\n",
      "  RHS range        [0e+00, 0e+00]\n",
      "Found heuristic solution: objective 10.4976000\n",
      "Found heuristic solution: objective 18.7984000\n",
      "Presolve removed 4 rows and 6 columns\n",
      "Presolve time: 0.00s\n",
      "Presolve: All rows and columns removed\n",
      "\n",
      "Explored 0 nodes (0 simplex iterations) in 0.04 seconds\n",
      "Thread count was 1 (of 4 available processors)\n",
      "\n",
      "Solution count 2: 18.7984 \n",
      "\n",
      "Optimal solution found (tolerance 1.00e-04)\n",
      "Best objective 1.879840000000e+01, best bound 1.879840000000e+01, gap 0.0000%\n"
     ]
    }
   ],
   "source": [
    "# another way to do this: now the ouotcomes are just calculated as 'normal' variables\n",
    "\n",
    "m = gp.Model(\"task1_alt\")\n",
    "zA0 = m.addVar(vtype=GRB.BINARY, name='zA0')\n",
    "zA1 = m.addVar(vtype=GRB.BINARY, name='zA1')\n",
    "zA2 = m.addVar(vtype=GRB.BINARY, name='zA2')\n",
    "zB0 = m.addVar(vtype=GRB.BINARY, name='zB0')\n",
    "zB1 = m.addVar(vtype=GRB.BINARY, name='zB1')\n",
    "zB2 = m.addVar(vtype=GRB.BINARY, name='zB2')\n",
    "\n",
    "P1 = 0.5\n",
    "P2 = 0.5\n",
    "P11 = P1*0.3\n",
    "P12 = P1*0.7\n",
    "P21 = P2*0.4\n",
    "P22 = P2*0.6\n",
    "\n",
    "r = 1.08\n",
    "\n",
    "R0 = 9 - 1*zA0 - 2*zB0\n",
    "\n",
    "R1 = r*R0 - 3*zA1 - 2*zB1\n",
    "R2 = r*R0 - 3*zA2 - 2*zB2\n",
    "\n",
    "R11 = r*R1 + 20*zA1 + 2.5*zB1\n",
    "R12 = r*R1 + 10*zA1 + 1*zB1\n",
    "R21 = r*R2 + 5*zA2 + 25*zB2\n",
    "R22 = r*R2 + 10*zB2\n",
    "\n",
    "m.setObjective(P11*R11 + P12*R12 + P21*R21 + P22*R22, GRB.MAXIMIZE) \n",
    "\n",
    "\n",
    "m.addConstr(zA0 >= zA1)\n",
    "m.addConstr(zA0 >= zA2)\n",
    "m.addConstr(zB0 >= zB1)\n",
    "m.addConstr(zB0 >= zB2)\n",
    "\n",
    "m.optimize()"
   ]
  },
  {
   "cell_type": "code",
   "execution_count": 5,
   "id": "discrete-handling",
   "metadata": {},
   "outputs": [
    {
     "data": {
      "text/plain": [
       "[1.0, 1.0, 0.0, 1.0, 0.0, 1.0]"
      ]
     },
     "execution_count": 5,
     "metadata": {},
     "output_type": "execute_result"
    }
   ],
   "source": [
    "solution_x = m.getAttr('x')\n",
    "solution_x"
   ]
  },
  {
   "cell_type": "code",
   "execution_count": null,
   "id": "alone-template",
   "metadata": {},
   "outputs": [],
   "source": []
  }
 ],
 "metadata": {
  "kernelspec": {
   "display_name": "Python 3 (ipykernel)",
   "language": "python",
   "name": "python3"
  },
  "language_info": {
   "codemirror_mode": {
    "name": "ipython",
    "version": 3
   },
   "file_extension": ".py",
   "mimetype": "text/x-python",
   "name": "python",
   "nbconvert_exporter": "python",
   "pygments_lexer": "ipython3",
   "version": "3.9.7"
  }
 },
 "nbformat": 4,
 "nbformat_minor": 5
}
